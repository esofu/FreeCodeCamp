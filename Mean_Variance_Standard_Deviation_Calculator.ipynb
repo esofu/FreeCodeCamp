{
  "nbformat": 4,
  "nbformat_minor": 0,
  "metadata": {
    "colab": {
      "provenance": []
    },
    "kernelspec": {
      "name": "python3",
      "display_name": "Python 3"
    },
    "language_info": {
      "name": "python"
    }
  },
  "cells": [
    {
      "cell_type": "code",
      "source": [
        "import numpy as np\n",
        "\n",
        "def calculate(numbers):\n",
        "    if len(numbers) != 9:\n",
        "        raise ValueError(\"List must contain nine numbers\")\n",
        "\n",
        "    matrix = np.array(numbers).reshape(3, 3)\n",
        "    result = {\n",
        "        'mean': [list(matrix.mean(axis=1)), list(matrix.mean(axis=0)), matrix.mean()],\n",
        "        'variance': [list(matrix.var(axis=1)), list(matrix.var(axis=0)), matrix.var()],\n",
        "        'standard deviation': [list(matrix.std(axis=1)), list(matrix.std(axis=0)), matrix.std()],\n",
        "        'max': [list(matrix.max(axis=1)), list(matrix.max(axis=0)), matrix.max()],\n",
        "        'min': [list(matrix.min(axis=1)), list(matrix.min(axis=0)), matrix.min()],\n",
        "        'sum': [list(matrix.sum(axis=1)), list(matrix.sum(axis=0)), matrix.sum()]\n",
        "    }\n",
        "    return result\n",
        "print(s)"
      ],
      "metadata": {
        "colab": {
          "base_uri": "https://localhost:8080/"
        },
        "id": "0J-DMfyVQKm7",
        "outputId": "1245273d-7039-4c22-d888-6da53e57187f"
      },
      "execution_count": 15,
      "outputs": [
        {
          "output_type": "stream",
          "name": "stdout",
          "text": [
            "0    NaN\n",
            "1    1.0\n",
            "2    2.0\n",
            "3    2.0\n",
            "4    3.0\n",
            "dtype: float64\n"
          ]
        }
      ]
    },
    {
      "cell_type": "code",
      "source": [
        "numbers = [4, 6, 8, 1, 2, 7, 13, 11, 9]\n",
        "result = calculate(numbers)\n",
        "print(result)"
      ],
      "metadata": {
        "colab": {
          "base_uri": "https://localhost:8080/"
        },
        "id": "vpzjqKGPfd4f",
        "outputId": "60331861-207a-440a-97b1-3019ef3f7063"
      },
      "execution_count": 17,
      "outputs": [
        {
          "output_type": "stream",
          "name": "stdout",
          "text": [
            "{'mean': [[6.0, 3.3333333333333335, 11.0], [6.0, 6.333333333333333, 8.0], 6.777777777777778], 'variance': [[2.6666666666666665, 6.888888888888888, 2.6666666666666665], [26.0, 13.555555555555557, 0.6666666666666666], 14.172839506172842], 'standard deviation': [[1.632993161855452, 2.6246692913372702, 1.632993161855452], [5.0990195135927845, 3.6817870057290873, 0.816496580927726], 3.7646831880216483], 'max': [[8, 7, 13], [13, 11, 9], 13], 'min': [[4, 1, 9], [1, 2, 7], 1], 'sum': [[18, 10, 33], [18, 19, 24], 61]}\n"
          ]
        }
      ]
    }
  ]
}
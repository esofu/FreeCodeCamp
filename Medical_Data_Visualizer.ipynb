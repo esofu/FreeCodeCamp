{
  "nbformat": 4,
  "nbformat_minor": 0,
  "metadata": {
    "colab": {
      "provenance": []
    },
    "kernelspec": {
      "name": "python3",
      "display_name": "Python 3"
    },
    "language_info": {
      "name": "python"
    }
  },
  "cells": [
    {
      "cell_type": "code",
      "execution_count": null,
      "metadata": {
        "id": "lVz3HlBL0TF5"
      },
      "outputs": [],
      "source": [
        "import pandas as pd\n",
        "import numpy as np\n",
        "import seaborn as sns\n",
        "import matplotlib.pyplot as plt\n",
        "\n",
        "def draw_cat_plot():\n",
        "    # Read the dataset\n",
        "    df = pd.read_csv('medical_examination.csv')\n",
        "\n",
        "    # Add an \"overweight\" column\n",
        "    overweight = (df['weight'] / ((df['height'] / 100) ** 2) > 25).astype(int)\n",
        "    df['overweight'] = overweight\n",
        "\n",
        "    # Normalize the data\n",
        "    df['cholesterol'] = (df['cholesterol'] > 1).astype(int)\n",
        "    df['gluc'] = (df['gluc'] > 1).astype(int)\n",
        "\n",
        "    # Create a catplot\n",
        "    data_catplot = pd.melt(df, id_vars=\"cardio\", value_vars=[\"cholesterol\", \"gluc\", \"smoke\", \"alco\", \"active\"])\n",
        "    chart = sns.catplot(data=data_catplot, kind=\"count\", x=\"variable\", hue=\"value\", col=\"cardio\")\n",
        "    chart.set_ylabels(\"total\")\n",
        "\n",
        "    # Save the figure\n",
        "    plt.savefig(\"catplot.png\")\n",
        "\n",
        "def draw_heat_map():\n",
        "    # Read the dataset\n",
        "    df = pd.read_csv('medical_examination.csv')\n",
        "\n",
        "    # Clean the data\n",
        "    df = df[(df['ap_lo'] <= df['ap_hi']) &\n",
        "            (df['height'] >= df['height'].quantile(0.025)) &\n",
        "            (df['height'] <= df['height'].quantile(0.975)) &\n",
        "            (df['weight'] >= df['weight'].quantile(0.025)) &\n",
        "            (df['weight'] <= df['weight'].quantile(0.975))]\n",
        "\n",
        "    # Create a correlation matrix\n",
        "    corr_matrix = df.corr()\n",
        "\n",
        "    # Generate a mask for the upper triangle\n",
        "    mask = np.triu(np.ones_like(corr_matrix, dtype=bool))\n",
        "\n",
        "    # Set up the matplotlib figure\n",
        "    fig, ax = plt.subplots(figsize=(12, 10))\n",
        "\n",
        "    # Draw the heatmap with the mask\n",
        "    sns.heatmap(corr_matrix, annot=True, fmt='.1f', mask=mask, cmap='coolwarm')\n",
        "\n",
        "    # Save the figure\n",
        "    plt.savefig(\"heatmap.png\")"
      ]
    }
  ]
}
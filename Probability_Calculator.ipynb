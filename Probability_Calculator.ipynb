{
  "nbformat": 4,
  "nbformat_minor": 0,
  "metadata": {
    "colab": {
      "provenance": []
    },
    "kernelspec": {
      "name": "python3",
      "display_name": "Python 3"
    },
    "language_info": {
      "name": "python"
    }
  },
  "cells": [
    {
      "cell_type": "code",
      "source": [
        "import copy\n",
        "import random\n",
        "\n",
        "class Hat:\n",
        "    def __init__(self, **kwargs):\n",
        "        self.contents = []\n",
        "        for color, count in kwargs.items():\n",
        "            self.contents.extend([color] * count)\n",
        "\n",
        "    def draw(self, num_balls):\n",
        "        num_balls = min(num_balls, len(self.contents))\n",
        "        drawn_balls = random.sample(self.contents, num_balls)\n",
        "        for ball in drawn_balls:\n",
        "            self.contents.remove(ball)\n",
        "        return drawn_balls\n",
        "\n",
        "def experiment(hat, expected_balls, num_balls_drawn, num_experiments):\n",
        "    successful_experiments = 0\n",
        "\n",
        "    for _ in range(num_experiments):\n",
        "        hat_copy = copy.deepcopy(hat)\n",
        "        drawn_balls = hat_copy.draw(num_balls_drawn)\n",
        "        drawn_counts = {color: drawn_balls.count(color) for color in drawn_balls}\n",
        "\n",
        "\n",
        "        match = True\n",
        "        for color, count in expected_balls.items():\n",
        "            if color not in drawn_counts or drawn_counts[color] < count:\n",
        "                match = False\n",
        "                break\n",
        "\n",
        "        if match:\n",
        "            successful_experiments += 1\n",
        "\n",
        "    probability = successful_experiments / num_experiments\n",
        "    return probability\n",
        "\n",
        "hat = Hat(blue=5, red=4, green=2)\n",
        "probability = experiment(hat, {\"red\": 1, \"green\": 2}, 4, 10000)\n",
        "print(f\"Estimated probability: {probability:.4f}\")"
      ],
      "metadata": {
        "colab": {
          "base_uri": "https://localhost:8080/"
        },
        "id": "0J-DMfyVQKm7",
        "outputId": "a4b79555-cd86-4d4b-a064-7d68f2f5a380"
      },
      "execution_count": 11,
      "outputs": [
        {
          "output_type": "stream",
          "name": "stdout",
          "text": [
            "Estimated probability: 0.0840\n"
          ]
        }
      ]
    }
  ]
}
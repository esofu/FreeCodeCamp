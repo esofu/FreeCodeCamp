{
  "nbformat": 4,
  "nbformat_minor": 0,
  "metadata": {
    "colab": {
      "provenance": []
    },
    "kernelspec": {
      "name": "python3",
      "display_name": "Python 3"
    },
    "language_info": {
      "name": "python"
    }
  },
  "cells": [
    {
      "cell_type": "code",
      "execution_count": 2,
      "metadata": {
        "id": "HQLI0_6MQJTZ"
      },
      "outputs": [],
      "source": [
        "def arithmetic_arranger(problems, show_answers=False):\n",
        "    if len(problems) > 5:\n",
        "        return \"Error: Too many problems\"\n",
        "\n",
        "    arranged_problems = \"\"\n",
        "    first_line = \"\"\n",
        "    second_line = \"\"\n",
        "    dash_line = \"\"\n",
        "    answer_line = \"\"\n",
        "\n",
        "    for problem in problems:\n",
        "        operands = problem.split()\n",
        "        num1, operator, num2 = operands\n",
        "\n",
        "        if operator not in ('+', '-'):\n",
        "            return \"Error: Operator must be '+' or '-'\"\n",
        "\n",
        "        if not (num1.isdigit() and num2.isdigit()):\n",
        "            return \"Error: Numbers must only contain digits\"\n",
        "\n",
        "        if len(num1) > 4 or len(num2) > 4:\n",
        "            return \"Error: Numbers cannot be more than four digits\"\n",
        "\n",
        "        width = max(len(num1), len(num2)) + 2\n",
        "        first_line += num1.rjust(width) + \"    \"\n",
        "        second_line += operator + num2.rjust(width - 1) + \"    \"\n",
        "        dash_line += '-' * width + \"    \"\n",
        "\n",
        "        if show_answers:\n",
        "            if operator == '+':\n",
        "                answer = str(int(num1) + int(num2))\n",
        "            else:\n",
        "              answer = str(int(num1) - int(num2))\n",
        "            answer_line += answer.rjust(width) + \"    \"\n",
        "\n",
        "    arranged_problems += first_line.rstrip() + '\\n'\n",
        "    arranged_problems += second_line.rstrip() + '\\n'\n",
        "    arranged_problems += dash_line.rstrip() + '\\n'\n",
        "\n",
        "    if show_answers:\n",
        "        arranged_problems += answer_line.rstrip() + '\\n'\n",
        "\n",
        "    return arranged_problems.strip()"
      ]
    },
    {
      "cell_type": "code",
      "source": [
        "problems = [\"11 + 698\", \"3800 - 2\", \"46 + 40\", \"120 + 49\"]\n",
        "arrangement = arithmetic_arranger(problems)\n",
        "print(arrangement)\n",
        "\n",
        "# To display answers:\n",
        "arrangement_with_answers = arithmetic_arranger(problems, show_answers=True)\n",
        "print(arrangement_with_answers)"
      ],
      "metadata": {
        "colab": {
          "base_uri": "https://localhost:8080/"
        },
        "id": "0J-DMfyVQKm7",
        "outputId": "52f50e0a-a297-439d-eb45-1814842336c4"
      },
      "execution_count": 3,
      "outputs": [
        {
          "output_type": "stream",
          "name": "stdout",
          "text": [
            "11      3800      46      120\n",
            "+ 698    -    2    + 40    +  49\n",
            "-----    ------    ----    -----\n",
            "11      3800      46      120\n",
            "+ 698    -    2    + 40    +  49\n",
            "-----    ------    ----    -----\n",
            "  709      3798      86      169\n"
          ]
        }
      ]
    },
    {
      "cell_type": "code",
      "source": [],
      "metadata": {
        "id": "7hZNX9OnQaC7"
      },
      "execution_count": null,
      "outputs": []
    }
  ]
}
{
  "nbformat": 4,
  "nbformat_minor": 0,
  "metadata": {
    "colab": {
      "provenance": []
    },
    "kernelspec": {
      "name": "python3",
      "display_name": "Python 3"
    },
    "language_info": {
      "name": "python"
    }
  },
  "cells": [
    {
      "cell_type": "code",
      "execution_count": 2,
      "metadata": {
        "colab": {
          "base_uri": "https://localhost:8080/"
        },
        "id": "lVz3HlBL0TF5",
        "outputId": "b0280145-b813-4c11-96c7-39abb11515bc"
      },
      "outputs": [
        {
          "output_type": "stream",
          "name": "stdout",
          "text": [
            "Mounted at /content/drive\n"
          ]
        }
      ],
      "source": [
        "\n",
        "from google.colab import drive\n",
        "import pandas as pd\n",
        "drive.mount('/content/drive')\n",
        "data = pd.read_csv('/content/drive/My Drive/fcc-forum-pageviews.csv')\n",
        "#Data can be accessed here: https://github.com/freeCodeCamp/boilerplate-page-view-time-series-visualizer/blob/main/fcc-forum-pageviews.csv"
      ]
    },
    {
      "cell_type": "code",
      "source": [
        "import pandas as pd\n",
        "import matplotlib.pyplot as plt\n",
        "import seaborn as sns\n",
        "\n",
        "def draw_line_plot():\n",
        "    df = pd.read_csv(\"/content/drive/My Drive/fcc-forum-pageviews.csv\", parse_dates=[\"date\"], index_col=\"date\")\n",
        "\n",
        "    df = df[(df[\"value\"] >= df[\"value\"].quantile(0.025)) & (df[\"value\"] <= df[\"value\"].quantile(0.975))]\n",
        "\n",
        "    plt.figure(figsize=(12, 6))\n",
        "    plt.plot(df.index, df[\"value\"], color='r', linewidth=1)\n",
        "    plt.title(\"Daily freeCodeCamp Forum Page Views 5/2016-12/2019\")\n",
        "    plt.xlabel(\"Date\")\n",
        "    plt.ylabel(\"Page Views\")\n",
        "\n",
        "    plt.savefig(\"line_plot.png\")\n",
        "    plt.close()\n",
        "\n",
        "def draw_bar_plot():\n",
        "    df = pd.read_csv(\"fcc-forum-pageviews.csv\", parse_dates=[\"date\"])\n",
        "\n",
        "    df[\"year\"] = df[\"date\"].dt.year\n",
        "    df[\"month\"] = df[\"date\"].dt.strftime(\"%B\")\n",
        "\n",
        "    df_grouped = df.groupby([\"year\", \"month\"]).mean().reset_index()\n",
        "\n",
        "    fig, ax = plt.subplots(figsize=(12, 6))\n",
        "    sns.barplot(data=df_grouped, x=\"year\", y=\"value\", hue=\"month\", hue_order=[\"January\", \"February\", \"March\", \"April\", \"May\", \"June\", \"July\", \"August\", \"September\", \"October\", \"November\", \"December\"], ci=None)\n",
        "    plt.title(\"Average Page Views per Year\")\n",
        "    plt.xlabel(\"Years\")\n",
        "    plt.ylabel(\"Average Page Views\")\n",
        "    plt.legend(title=\"Months\", loc=\"upper left\", labels=[calendar.month_abbr[i] for i in range(1, 13)])\n",
        "\n",
        "    plt.savefig(\"bar_plot.png\")\n",
        "    plt.close()\n",
        "\n",
        "def draw_box_plot():\n",
        "    df = pd.read_csv(\"fcc-forum-pageviews.csv\", parse_dates=[\"date\"])\n",
        "\n",
        "    df[\"year\"] = df[\"date\"].dt.year\n",
        "    df[\"month\"] = df[\"date\"].dt.strftime(\"%b\")\n",
        "\n",
        "    fig, axes = plt.subplots(1, 2, figsize=(18, 6))\n",
        "    sns.boxplot(data=df, x=\"year\", y=\"value\", ax=axes[0])\n",
        "    axes[0].set_title(\"Year-wise Box Plot (Trend)\")\n",
        "    axes[0].set_xlabel(\"Year\")\n",
        "    axes[0].set_ylabel(\"Page Views\")\n",
        "\n",
        "    df[\"month\"] = pd.Categorical(df[\"month\"], categories=[\"Jan\", \"Feb\", \"Mar\", \"Apr\", \"May\", \"Jun\", \"Jul\", \"Aug\", \"Sep\", \"Oct\", \"Nov\", \"Dec\"], ordered=True)\n",
        "    sns.boxplot(data=df, x=\"month\", y=\"value\", ax=axes[1])\n",
        "    axes[1].set_title(\"Month-wise Box Plot (Seasonality)\")\n",
        "    axes[1].set_xlabel(\"Month\")\n",
        "    axes[1].set_ylabel(\"Page Views\")\n",
        "\n",
        "    plt.savefig(\"box_plot.png\")\n",
        "    plt.close()"
      ],
      "metadata": {
        "id": "4UuKKgEv2p60"
      },
      "execution_count": 3,
      "outputs": []
    }
  ]
}
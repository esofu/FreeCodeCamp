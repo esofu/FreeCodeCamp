{
  "nbformat": 4,
  "nbformat_minor": 0,
  "metadata": {
    "colab": {
      "provenance": []
    },
    "kernelspec": {
      "name": "python3",
      "display_name": "Python 3"
    },
    "language_info": {
      "name": "python"
    }
  },
  "cells": [
    {
      "cell_type": "code",
      "source": [
        "def add_time(start, duration, day=None):\n",
        "    # Convert start time to 24-hour format\n",
        "    start_time, period = start.split()\n",
        "    start_hr, start_min = map(int, start_time.split(\":\"))\n",
        "    if period == \"PM\" and start_hr != 12:\n",
        "        start_hr += 12\n",
        "\n",
        "    # Parse duration\n",
        "    dur_hr, dur_min = map(int, duration.split(\":\"))\n",
        "\n",
        "    # Calculate new time\n",
        "    new_hr = start_hr + dur_hr\n",
        "    new_min = start_min + dur_min\n",
        "\n",
        "    # Handle minutes exceeding 60\n",
        "    if new_min >= 60:\n",
        "        new_hr += 1\n",
        "        new_min -= 60\n",
        "\n",
        "    # Calculate days later\n",
        "    days_later = new_hr // 24\n",
        "\n",
        "    # Calculate final hour in 12-hour format\n",
        "    final_hr = new_hr % 12\n",
        "    if final_hr == 0:\n",
        "        final_hr = 12\n",
        "\n",
        "    # Determine AM or PM\n",
        "    if new_hr >= 12:\n",
        "        period = \"PM\"\n",
        "    else:\n",
        "        period = \"AM\"\n",
        "\n",
        "    # Calculate day of the week\n",
        "    days_of_week = [\"Monday\", \"Tuesday\", \"Wednesday\", \"Thursday\", \"Friday\", \"Saturday\", \"Sunday\"]\n",
        "    if day:\n",
        "        day = day.lower().capitalize()\n",
        "        day_index = days_of_week.index(day)\n",
        "        new_day_index = (day_index + days_later) % 7\n",
        "        new_day = days_of_week[new_day_index]\n",
        "\n",
        "    # Build the result string\n",
        "    result = f\"{final_hr}:{new_min:02d} {period}\"\n",
        "    if day:\n",
        "        result += f\", {new_day}\"\n",
        "    if days_later == 1:\n",
        "        result += \" (next day)\"\n",
        "    elif days_later > 1:\n",
        "        result += f\" ({days_later} days later)\"\n",
        "\n",
        "    return result"
      ],
      "metadata": {
        "id": "0J-DMfyVQKm7"
      },
      "execution_count": 4,
      "outputs": []
    },
    {
      "cell_type": "code",
      "source": [
        "print(add_time(\"4:00 PM\", \"4:11\"))"
      ],
      "metadata": {
        "colab": {
          "base_uri": "https://localhost:8080/"
        },
        "id": "7hZNX9OnQaC7",
        "outputId": "d63971a1-ca33-4574-f5d4-52af78a5e25e"
      },
      "execution_count": 5,
      "outputs": [
        {
          "output_type": "stream",
          "name": "stdout",
          "text": [
            "8:11 PM\n"
          ]
        }
      ]
    }
  ]
}
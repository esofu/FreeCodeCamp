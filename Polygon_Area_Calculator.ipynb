{
  "nbformat": 4,
  "nbformat_minor": 0,
  "metadata": {
    "colab": {
      "provenance": []
    },
    "kernelspec": {
      "name": "python3",
      "display_name": "Python 3"
    },
    "language_info": {
      "name": "python"
    }
  },
  "cells": [
    {
      "cell_type": "code",
      "source": [
        "class Rectangle:\n",
        "    def __init__(self, width, height):\n",
        "        self.width = width\n",
        "        self.height = height\n",
        "\n",
        "    def set_width(self, width):\n",
        "        self.width = width\n",
        "\n",
        "    def set_height(self, height):\n",
        "        self.height = height\n",
        "\n",
        "    def get_area(self):\n",
        "        return self.width * self.height\n",
        "\n",
        "    def get_perimeter(self):\n",
        "        return 2 * (self.width + self.height)\n",
        "\n",
        "    def get_diagonal(self):\n",
        "        return (self.width ** 2 + self.height ** 2) ** 0.5\n",
        "\n",
        "    def get_picture(self):\n",
        "        if self.width > 50 or self.height > 50:\n",
        "            return \"Too big for picture.\"\n",
        "        return (\"*\" * self.width + \"\\n\") * self.height\n",
        "\n",
        "    def get_amount_inside(self, shape):\n",
        "        return (self.width // shape.width) * (self.height // shape.height)\n",
        "\n",
        "    def __str__(self):\n",
        "        return f\"Rectangle(width={self.width}, height={self.height})\"\n",
        "\n",
        "\n",
        "class Square(Rectangle):\n",
        "    def __init__(self, side):\n",
        "        super().__init__(side, side)\n",
        "\n",
        "    def set_side(self, side):\n",
        "        self.set_width(side)\n",
        "        self.set_height(side)\n",
        "\n",
        "    def set_width(self, width):\n",
        "        self.set_side(width)\n",
        "\n",
        "    def set_height(self, height):\n",
        "        self.set_side(height)\n",
        "\n",
        "    def __str__(self):\n",
        "        return f\"Square(side={self.width})\""
      ],
      "metadata": {
        "id": "0J-DMfyVQKm7"
      },
      "execution_count": 7,
      "outputs": []
    },
    {
      "cell_type": "code",
      "source": [
        "rect = Rectangle(5, 10)\n",
        "\n",
        "print(rect.get_area())\n",
        "rect.set_height(3)\n",
        "print(rect.get_perimeter())\n",
        "print(rect)\n",
        "print(rect.get_picture())\n",
        "\n",
        "sq = Square(9)\n",
        "\n",
        "\n",
        "print(sq.get_area())\n",
        "print(sq.get_diagonal())\n",
        "print(sq)\n",
        "print(sq.get_picture())\n",
        "\n",
        "rect.set_height(8)\n",
        "rect.set_width(16)\n",
        "print(rect.get_amount_inside(sq))"
      ],
      "metadata": {
        "colab": {
          "base_uri": "https://localhost:8080/"
        },
        "id": "j2AEf5XTVH2e",
        "outputId": "6102148f-0a1d-45da-ea02-93c4c58790a0"
      },
      "execution_count": 10,
      "outputs": [
        {
          "output_type": "stream",
          "name": "stdout",
          "text": [
            "50\n",
            "16\n",
            "Rectangle(width=5, height=3)\n",
            "*****\n",
            "*****\n",
            "*****\n",
            "\n",
            "81\n",
            "12.727922061357855\n",
            "Square(side=9)\n",
            "*********\n",
            "*********\n",
            "*********\n",
            "*********\n",
            "*********\n",
            "*********\n",
            "*********\n",
            "*********\n",
            "*********\n",
            "\n",
            "0\n"
          ]
        }
      ]
    },
    {
      "cell_type": "code",
      "source": [],
      "metadata": {
        "id": "en767NDsVa8P"
      },
      "execution_count": null,
      "outputs": []
    }
  ]
}